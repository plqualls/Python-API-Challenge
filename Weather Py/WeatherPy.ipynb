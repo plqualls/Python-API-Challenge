{
 "cells": [
  {
   "cell_type": "markdown",
   "metadata": {},
   "source": [
    "# WeatherPy\n",
    "----\n",
    "\n",
    "#### Note\n",
    "* Instructions have been included for each segment. You do not have to follow them exactly, but they are included to help you think through the steps."
   ]
  },
  {
   "cell_type": "code",
   "execution_count": 1,
   "metadata": {
    "scrolled": true
   },
   "outputs": [],
   "source": [
    "# Dependencies and Setup\n",
    "import matplotlib.pyplot as plt\n",
    "import pandas as pd\n",
    "import numpy as np\n",
    "import requests\n",
    "import time\n",
    "from scipy.stats import linregress\n",
    "\n",
    "# Import API key\n",
    "from api_keys import weather_api_key\n",
    "\n",
    "# Incorporated citipy to determine city based on latitude and longitude\n",
    "from citipy import citipy\n",
    "\n",
    "# Output File (CSV)\n",
    "output_data_file = \"output_data/cities.csv\"\n",
    "\n",
    "# Range of latitudes and longitudes\n",
    "lat_range = (-90, 90)\n",
    "lng_range = (-180, 180)"
   ]
  },
  {
   "cell_type": "markdown",
   "metadata": {},
   "source": [
    "## Generate Cities List"
   ]
  },
  {
   "cell_type": "code",
   "execution_count": 2,
   "metadata": {},
   "outputs": [
    {
     "data": {
      "text/plain": [
       "605"
      ]
     },
     "execution_count": 2,
     "metadata": {},
     "output_type": "execute_result"
    }
   ],
   "source": [
    "# List for holding lat_lngs and cities\n",
    "lat_lngs = []\n",
    "cities = []\n",
    "\n",
    "# Create a set of random lat and lng combinations\n",
    "lats = np.random.uniform(lat_range[0], lat_range[1], size=1500)\n",
    "lngs = np.random.uniform(lng_range[0], lng_range[1], size=1500)\n",
    "lat_lngs = zip(lats, lngs)\n",
    "\n",
    "# Identify nearest city for each lat, lng combination\n",
    "for lat_lng in lat_lngs:\n",
    "    city = citipy.nearest_city(lat_lng[0], lat_lng[1]).city_name\n",
    "    \n",
    "    # If the city is unique, then add it to a our cities list\n",
    "    if city not in cities:\n",
    "        cities.append(city)\n",
    "\n",
    "# Print the city count to confirm sufficient count\n",
    "len(cities)"
   ]
  },
  {
   "cell_type": "markdown",
   "metadata": {},
   "source": [
    "### Perform API Calls\n",
    "* Perform a weather check on each city using a series of successive API calls.\n",
    "* Include a print log of each city as it'sbeing processed (with the city number and city name).\n"
   ]
  },
  {
   "cell_type": "code",
   "execution_count": 3,
   "metadata": {
    "scrolled": true
   },
   "outputs": [],
   "source": [
    "#Use API to receive results in json\n",
    "\n",
    "# Create row to process down the list\n",
    "row_counter = 1\n",
    "# Create a dictionary with parameters using api\n",
    "settings = {\"appid\": weather_api_key, \"units\": \"imperial\"}\n",
    "# Call the input URL\n",
    "base_url = \"http://api.openweathermap.org/data/2.5/weather?\"\n",
    "# Create query url\n",
    "query_url = f\"{base_url}appid={settings['appid']}&units={settings['units']}&q=\"\n"
   ]
  },
  {
   "cell_type": "code",
   "execution_count": 4,
   "metadata": {},
   "outputs": [
    {
     "name": "stdout",
     "output_type": "stream",
     "text": [
      "Beginning Data Retrieval\n",
      "------------------------------\n",
      "Processing Record 1 of Set 1 | rikitea\n",
      "Processing Record 2 of Set 1 | jamestown\n",
      "Processing Record 3 of Set 1 | geraldton\n",
      "City not found. Skipping...\n",
      "Processing Record 4 of Set 1 | busselton\n",
      "Processing Record 5 of Set 1 | puerto ayora\n",
      "City not found. Skipping...\n",
      "Processing Record 6 of Set 1 | thompson\n",
      "Processing Record 7 of Set 1 | port alfred\n",
      "Processing Record 8 of Set 1 | saint-philippe\n",
      "Processing Record 9 of Set 1 | kapaa\n",
      "Processing Record 10 of Set 1 | albany\n",
      "Processing Record 11 of Set 1 | barrow\n",
      "Processing Record 12 of Set 1 | ushuaia\n",
      "Processing Record 13 of Set 1 | dongsheng\n",
      "Processing Record 14 of Set 1 | sampit\n",
      "Processing Record 15 of Set 1 | santa maria\n",
      "Processing Record 16 of Set 1 | liberal\n",
      "Processing Record 17 of Set 1 | bluff\n",
      "City not found. Skipping...\n",
      "Processing Record 18 of Set 1 | castro\n",
      "City not found. Skipping...\n",
      "Processing Record 19 of Set 1 | tiznit\n",
      "Processing Record 20 of Set 1 | comodoro rivadavia\n",
      "Processing Record 21 of Set 1 | huntsville\n",
      "Processing Record 22 of Set 1 | avarua\n",
      "Processing Record 23 of Set 1 | mar del plata\n",
      "Processing Record 24 of Set 1 | edelira\n",
      "Processing Record 25 of Set 1 | bandarbeyla\n",
      "Processing Record 26 of Set 1 | pervomayskiy\n",
      "Processing Record 27 of Set 1 | hasaki\n",
      "Processing Record 28 of Set 1 | tiksi\n",
      "Processing Record 29 of Set 1 | qaanaaq\n",
      "Processing Record 30 of Set 1 | nanga eboko\n",
      "City not found. Skipping...\n",
      "Processing Record 31 of Set 1 | fortuna\n",
      "Processing Record 32 of Set 1 | vondrozo\n",
      "Processing Record 33 of Set 1 | yellowknife\n",
      "City not found. Skipping...\n",
      "Processing Record 34 of Set 1 | bridlington\n",
      "Processing Record 35 of Set 1 | cruzeiro do sul\n",
      "Processing Record 36 of Set 1 | esperance\n",
      "City not found. Skipping...\n",
      "Processing Record 37 of Set 1 | ituango\n",
      "Processing Record 38 of Set 1 | vao\n",
      "Processing Record 39 of Set 1 | cape town\n",
      "Processing Record 40 of Set 1 | yulara\n",
      "Processing Record 41 of Set 1 | suwannaphum\n",
      "Processing Record 42 of Set 1 | katunino\n",
      "Processing Record 43 of Set 1 | mataura\n",
      "Processing Record 44 of Set 1 | russell\n",
      "Processing Record 45 of Set 1 | punta arenas\n",
      "Processing Record 46 of Set 1 | novo aripuana\n",
      "Processing Record 47 of Set 1 | hilo\n",
      "Processing Record 48 of Set 1 | san ignacio de sabaneta\n",
      "City not found. Skipping...\n",
      "Processing Record 49 of Set 1 | kodiak\n",
      "Processing Record 1 of Set 2 | lavrentiya\n",
      "Processing Record 2 of Set 2 | muros\n",
      "Processing Record 3 of Set 2 | juneau\n",
      "Processing Record 4 of Set 2 | oparino\n",
      "Processing Record 5 of Set 2 | luwuk\n",
      "Processing Record 6 of Set 2 | saint-denis\n",
      "Processing Record 7 of Set 2 | grand forks\n",
      "Processing Record 8 of Set 2 | cabo san lucas\n",
      "Processing Record 9 of Set 2 | new norfolk\n",
      "City not found. Skipping...\n",
      "Processing Record 10 of Set 2 | arraial do cabo\n",
      "Processing Record 11 of Set 2 | novyy urgal\n",
      "Processing Record 12 of Set 2 | kaitangata\n",
      "Processing Record 13 of Set 2 | butaritari\n",
      "Processing Record 14 of Set 2 | maceio\n",
      "Processing Record 15 of Set 2 | puerto del rosario\n",
      "Processing Record 16 of Set 2 | hun\n",
      "Processing Record 17 of Set 2 | pevek\n",
      "City not found. Skipping...\n",
      "City not found. Skipping...\n",
      "Processing Record 18 of Set 2 | luderitz\n",
      "Processing Record 19 of Set 2 | hermanus\n",
      "Processing Record 20 of Set 2 | broome\n",
      "Processing Record 21 of Set 2 | tuktoyaktuk\n",
      "Processing Record 22 of Set 2 | khandyga\n",
      "Processing Record 23 of Set 2 | nampa\n",
      "Processing Record 24 of Set 2 | hobart\n",
      "Processing Record 25 of Set 2 | kavieng\n",
      "Processing Record 26 of Set 2 | ponta do sol\n",
      "City not found. Skipping...\n",
      "Processing Record 27 of Set 2 | mbandaka\n",
      "City not found. Skipping...\n",
      "City not found. Skipping...\n",
      "Processing Record 28 of Set 2 | port elizabeth\n",
      "Processing Record 29 of Set 2 | sitka\n",
      "Processing Record 30 of Set 2 | sabang\n",
      "Processing Record 31 of Set 2 | saldanha\n",
      "Processing Record 32 of Set 2 | ilulissat\n",
      "Processing Record 33 of Set 2 | nawa\n",
      "Processing Record 34 of Set 2 | khatanga\n",
      "Processing Record 35 of Set 2 | mossoro\n",
      "Processing Record 36 of Set 2 | vaini\n",
      "Processing Record 37 of Set 2 | kirakira\n",
      "Processing Record 38 of Set 2 | chapayevka\n",
      "Processing Record 39 of Set 2 | namibe\n",
      "Processing Record 40 of Set 2 | fairbanks\n",
      "Processing Record 41 of Set 2 | ambilobe\n",
      "City not found. Skipping...\n",
      "Processing Record 42 of Set 2 | dedougou\n",
      "Processing Record 43 of Set 2 | hervey bay\n",
      "Processing Record 44 of Set 2 | okhotsk\n",
      "Processing Record 45 of Set 2 | statesville\n",
      "Processing Record 46 of Set 2 | lianyuan\n",
      "Processing Record 47 of Set 2 | split\n",
      "Processing Record 48 of Set 2 | sitrah\n",
      "Processing Record 49 of Set 2 | port-cartier\n",
      "Processing Record 1 of Set 3 | chuy\n",
      "Processing Record 2 of Set 3 | adrar\n",
      "Processing Record 3 of Set 3 | vestmannaeyjar\n",
      "Processing Record 4 of Set 3 | gat\n",
      "Processing Record 5 of Set 3 | douglas\n",
      "Processing Record 6 of Set 3 | lebu\n",
      "Processing Record 7 of Set 3 | kitob\n",
      "Processing Record 8 of Set 3 | tura\n",
      "Processing Record 9 of Set 3 | bousse\n",
      "Processing Record 10 of Set 3 | dunedin\n",
      "Processing Record 11 of Set 3 | hithadhoo\n",
      "Processing Record 12 of Set 3 | giresun\n",
      "Processing Record 13 of Set 3 | torbay\n",
      "Processing Record 14 of Set 3 | aswan\n",
      "Processing Record 15 of Set 3 | viedma\n",
      "Processing Record 16 of Set 3 | meulaboh\n",
      "Processing Record 17 of Set 3 | egvekinot\n",
      "Processing Record 18 of Set 3 | tabou\n",
      "Processing Record 19 of Set 3 | voi\n",
      "Processing Record 20 of Set 3 | wamba\n",
      "Processing Record 21 of Set 3 | teguise\n",
      "Processing Record 22 of Set 3 | georgetown\n",
      "Processing Record 23 of Set 3 | hamilton\n",
      "Processing Record 24 of Set 3 | clyde river\n",
      "City not found. Skipping...\n",
      "Processing Record 25 of Set 3 | batagay-alyta\n",
      "Processing Record 26 of Set 3 | sangar\n",
      "Processing Record 27 of Set 3 | sola\n",
      "Processing Record 28 of Set 3 | yeniseysk\n",
      "Processing Record 29 of Set 3 | murakami\n",
      "Processing Record 30 of Set 3 | omboue\n",
      "Processing Record 31 of Set 3 | mamallapuram\n",
      "Processing Record 32 of Set 3 | shimoda\n",
      "Processing Record 33 of Set 3 | porto novo\n",
      "Processing Record 34 of Set 3 | ribeira grande\n",
      "City not found. Skipping...\n",
      "Processing Record 35 of Set 3 | talnakh\n",
      "Processing Record 36 of Set 3 | saint-francois\n",
      "City not found. Skipping...\n",
      "Processing Record 37 of Set 3 | bethel\n",
      "Processing Record 38 of Set 3 | riyadh\n",
      "Processing Record 39 of Set 3 | tasiilaq\n",
      "Processing Record 40 of Set 3 | bredasdorp\n",
      "Processing Record 41 of Set 3 | rorvik\n",
      "Processing Record 42 of Set 3 | alekseyevka\n",
      "Processing Record 43 of Set 3 | port lincoln\n",
      "Processing Record 44 of Set 3 | biak\n",
      "Processing Record 45 of Set 3 | atuona\n",
      "City not found. Skipping...\n",
      "Processing Record 46 of Set 3 | yerbogachen\n",
      "Processing Record 47 of Set 3 | mandalgovi\n",
      "City not found. Skipping...\n",
      "Processing Record 48 of Set 3 | leningradskiy\n",
      "City not found. Skipping...\n",
      "Processing Record 49 of Set 3 | stromness\n",
      "Processing Record 1 of Set 4 | arona\n",
      "Processing Record 2 of Set 4 | evensk\n",
      "Processing Record 3 of Set 4 | iquitos\n",
      "Processing Record 4 of Set 4 | san antonio\n",
      "Processing Record 5 of Set 4 | vila franca do campo\n",
      "Processing Record 6 of Set 4 | lompoc\n",
      "City not found. Skipping...\n",
      "Processing Record 7 of Set 4 | nikolskoye\n",
      "Processing Record 8 of Set 4 | upernavik\n",
      "Processing Record 9 of Set 4 | phuthaditjhaba\n",
      "Processing Record 10 of Set 4 | irati\n",
      "Processing Record 11 of Set 4 | crab hill\n",
      "Processing Record 12 of Set 4 | azangaro\n",
      "Processing Record 13 of Set 4 | bengkulu\n",
      "City not found. Skipping...\n",
      "Processing Record 14 of Set 4 | elizabeth city\n",
      "Processing Record 15 of Set 4 | lengshuitan\n",
      "Processing Record 16 of Set 4 | hay river\n",
      "Processing Record 17 of Set 4 | mao\n",
      "Processing Record 18 of Set 4 | half moon bay\n",
      "Processing Record 19 of Set 4 | jeremie\n",
      "Processing Record 20 of Set 4 | del rio\n",
      "Processing Record 21 of Set 4 | anshun\n",
      "Processing Record 22 of Set 4 | victoria\n",
      "Processing Record 23 of Set 4 | saskylakh\n",
      "Processing Record 24 of Set 4 | katsuura\n",
      "Processing Record 25 of Set 4 | faya\n",
      "Processing Record 26 of Set 4 | hanna\n",
      "Processing Record 27 of Set 4 | isoka\n",
      "Processing Record 28 of Set 4 | sistranda\n",
      "Processing Record 29 of Set 4 | rawson\n",
      "Processing Record 30 of Set 4 | ust-kuyga\n",
      "Processing Record 31 of Set 4 | bam\n",
      "City not found. Skipping...\n",
      "Processing Record 32 of Set 4 | phan rang\n",
      "Processing Record 33 of Set 4 | partur\n",
      "Processing Record 34 of Set 4 | kiboga\n",
      "City not found. Skipping...\n"
     ]
    },
    {
     "name": "stdout",
     "output_type": "stream",
     "text": [
      "City not found. Skipping...\n",
      "Processing Record 35 of Set 4 | norman wells\n",
      "Processing Record 36 of Set 4 | wagar\n",
      "Processing Record 37 of Set 4 | hella\n",
      "Processing Record 38 of Set 4 | imbituba\n",
      "Processing Record 39 of Set 4 | antofagasta\n",
      "Processing Record 40 of Set 4 | touros\n",
      "Processing Record 41 of Set 4 | neftcala\n",
      "City not found. Skipping...\n",
      "Processing Record 42 of Set 4 | las vegas\n",
      "City not found. Skipping...\n",
      "Processing Record 43 of Set 4 | wilmington\n",
      "Processing Record 44 of Set 4 | sayat\n",
      "Processing Record 45 of Set 4 | maniitsoq\n",
      "City not found. Skipping...\n",
      "Processing Record 46 of Set 4 | sao gabriel da cachoeira\n",
      "Processing Record 47 of Set 4 | gimli\n",
      "Processing Record 48 of Set 4 | barcelos\n",
      "Processing Record 49 of Set 4 | lorengau\n",
      "Processing Record 1 of Set 5 | dikson\n",
      "Processing Record 2 of Set 5 | chokurdakh\n",
      "Processing Record 3 of Set 5 | grand river south east\n",
      "Processing Record 4 of Set 5 | svetlyy\n",
      "Processing Record 5 of Set 5 | takoradi\n",
      "City not found. Skipping...\n",
      "Processing Record 6 of Set 5 | pemangkat\n",
      "Processing Record 7 of Set 5 | bowen\n",
      "Processing Record 8 of Set 5 | komsomolets\n",
      "Processing Record 9 of Set 5 | laguna\n",
      "Processing Record 10 of Set 5 | akcakoca\n",
      "Processing Record 11 of Set 5 | bjelovar\n",
      "Processing Record 12 of Set 5 | maymyo\n",
      "Processing Record 13 of Set 5 | santos dumont\n",
      "Processing Record 14 of Set 5 | mogadishu\n",
      "Processing Record 15 of Set 5 | mahebourg\n",
      "Processing Record 16 of Set 5 | asau\n",
      "Processing Record 17 of Set 5 | saint-louis\n",
      "Processing Record 18 of Set 5 | kulhudhuffushi\n",
      "Processing Record 19 of Set 5 | chico\n",
      "Processing Record 20 of Set 5 | thomastown\n",
      "Processing Record 21 of Set 5 | parrita\n",
      "Processing Record 22 of Set 5 | herat\n",
      "City not found. Skipping...\n",
      "Processing Record 23 of Set 5 | rodrigues alves\n",
      "Processing Record 24 of Set 5 | kjollefjord\n",
      "Processing Record 25 of Set 5 | sobolevo\n",
      "Processing Record 26 of Set 5 | luganville\n",
      "Processing Record 27 of Set 5 | hami\n",
      "Processing Record 28 of Set 5 | kruisfontein\n",
      "City not found. Skipping...\n",
      "City not found. Skipping...\n",
      "Processing Record 29 of Set 5 | buala\n",
      "Processing Record 30 of Set 5 | berezovyy\n",
      "Processing Record 31 of Set 5 | airai\n",
      "Processing Record 32 of Set 5 | tutoia\n",
      "Processing Record 33 of Set 5 | macon\n",
      "Processing Record 34 of Set 5 | horta\n",
      "Processing Record 35 of Set 5 | visby\n",
      "Processing Record 36 of Set 5 | lethem\n",
      "Processing Record 37 of Set 5 | souillac\n",
      "Processing Record 38 of Set 5 | litovko\n",
      "Processing Record 39 of Set 5 | bay roberts\n",
      "Processing Record 40 of Set 5 | mgandu\n",
      "Processing Record 41 of Set 5 | pisco\n",
      "Processing Record 42 of Set 5 | port macquarie\n",
      "Processing Record 43 of Set 5 | itoman\n",
      "Processing Record 44 of Set 5 | chara\n",
      "Processing Record 45 of Set 5 | salinas\n",
      "Processing Record 46 of Set 5 | uhlove\n",
      "City not found. Skipping...\n",
      "Processing Record 47 of Set 5 | chihuahua\n",
      "Processing Record 48 of Set 5 | dzaoudzi\n",
      "Processing Record 49 of Set 5 | westport\n",
      "Processing Record 1 of Set 6 | carnarvon\n",
      "Processing Record 2 of Set 6 | talgar\n",
      "City not found. Skipping...\n",
      "Processing Record 3 of Set 6 | yokadouma\n",
      "Processing Record 4 of Set 6 | nanakuli\n",
      "Processing Record 5 of Set 6 | sarka ghat\n",
      "Processing Record 6 of Set 6 | shihezi\n",
      "Processing Record 7 of Set 6 | estelle\n",
      "Processing Record 8 of Set 6 | paredon\n",
      "Processing Record 9 of Set 6 | faanui\n",
      "Processing Record 10 of Set 6 | pandan\n",
      "Processing Record 11 of Set 6 | gondanglegi\n",
      "Processing Record 12 of Set 6 | ketchikan\n",
      "Processing Record 13 of Set 6 | orikum\n",
      "Processing Record 14 of Set 6 | kendari\n",
      "Processing Record 15 of Set 6 | asyut\n",
      "Processing Record 16 of Set 6 | oskarshamn\n",
      "Processing Record 17 of Set 6 | jumla\n",
      "Processing Record 18 of Set 6 | alassio\n",
      "Processing Record 19 of Set 6 | tuatapere\n",
      "Processing Record 20 of Set 6 | porbandar\n",
      "Processing Record 21 of Set 6 | apollonia\n",
      "Processing Record 22 of Set 6 | binga\n",
      "City not found. Skipping...\n",
      "Processing Record 23 of Set 6 | san francisco\n",
      "Processing Record 24 of Set 6 | taoudenni\n",
      "Processing Record 25 of Set 6 | mayumba\n",
      "City not found. Skipping...\n",
      "Processing Record 26 of Set 6 | panzhihua\n",
      "City not found. Skipping...\n",
      "City not found. Skipping...\n",
      "City not found. Skipping...\n",
      "Processing Record 27 of Set 6 | kamina\n",
      "Processing Record 28 of Set 6 | zlitan\n",
      "Processing Record 29 of Set 6 | smidovich\n",
      "Processing Record 30 of Set 6 | nome\n",
      "Processing Record 31 of Set 6 | aykhal\n",
      "Processing Record 32 of Set 6 | poum\n",
      "Processing Record 33 of Set 6 | bathsheba\n",
      "City not found. Skipping...\n",
      "Processing Record 34 of Set 6 | axim\n",
      "Processing Record 35 of Set 6 | iqaluit\n",
      "Processing Record 36 of Set 6 | schluchtern\n",
      "City not found. Skipping...\n",
      "City not found. Skipping...\n",
      "Processing Record 37 of Set 6 | mubi\n",
      "Processing Record 38 of Set 6 | sao filipe\n",
      "Processing Record 39 of Set 6 | xining\n",
      "Processing Record 40 of Set 6 | dingle\n",
      "City not found. Skipping...\n",
      "Processing Record 41 of Set 6 | akdepe\n",
      "City not found. Skipping...\n",
      "Processing Record 42 of Set 6 | dubbo\n",
      "Processing Record 43 of Set 6 | kiruna\n",
      "Processing Record 44 of Set 6 | cidreira\n",
      "Processing Record 45 of Set 6 | terrace bay\n",
      "Processing Record 46 of Set 6 | sao miguel do araguaia\n",
      "Processing Record 47 of Set 6 | east london\n",
      "City not found. Skipping...\n",
      "Processing Record 48 of Set 6 | ukiah\n",
      "Processing Record 49 of Set 6 | salalah\n",
      "Processing Record 1 of Set 7 | alice springs\n",
      "Processing Record 2 of Set 7 | vostok\n",
      "Processing Record 3 of Set 7 | vanimo\n",
      "Processing Record 4 of Set 7 | kathmandu\n",
      "Processing Record 5 of Set 7 | beringovskiy\n",
      "City not found. Skipping...\n",
      "Processing Record 6 of Set 7 | auki\n",
      "Processing Record 7 of Set 7 | kungurtug\n",
      "Processing Record 8 of Set 7 | sioux lookout\n",
      "Processing Record 9 of Set 7 | kaseda\n",
      "Processing Record 10 of Set 7 | kavaratti\n",
      "Processing Record 11 of Set 7 | urumqi\n",
      "Processing Record 12 of Set 7 | tezu\n",
      "Processing Record 13 of Set 7 | paamiut\n",
      "Processing Record 14 of Set 7 | marzuq\n",
      "City not found. Skipping...\n",
      "Processing Record 15 of Set 7 | jambi\n",
      "City not found. Skipping...\n",
      "Processing Record 16 of Set 7 | semnan\n",
      "Processing Record 17 of Set 7 | rincon\n",
      "Processing Record 18 of Set 7 | cherskiy\n",
      "Processing Record 19 of Set 7 | sisimiut\n",
      "Processing Record 20 of Set 7 | berdigestyakh\n",
      "Processing Record 21 of Set 7 | bambous virieux\n",
      "Processing Record 22 of Set 7 | carutapera\n",
      "Processing Record 23 of Set 7 | kholtoson\n",
      "Processing Record 24 of Set 7 | luanda\n",
      "Processing Record 25 of Set 7 | khasan\n",
      "Processing Record 26 of Set 7 | mahajanga\n",
      "Processing Record 27 of Set 7 | kakrala\n",
      "Processing Record 28 of Set 7 | coracora\n",
      "Processing Record 29 of Set 7 | severo-kurilsk\n",
      "Processing Record 30 of Set 7 | irbeyskoye\n",
      "Processing Record 31 of Set 7 | ugoofaaru\n",
      "Processing Record 32 of Set 7 | fergus falls\n",
      "Processing Record 33 of Set 7 | coquimbo\n",
      "Processing Record 34 of Set 7 | cap malheureux\n",
      "Processing Record 35 of Set 7 | ballina\n",
      "Processing Record 36 of Set 7 | port hedland\n",
      "Processing Record 37 of Set 7 | vaitape\n",
      "City not found. Skipping...\n",
      "City not found. Skipping...\n",
      "City not found. Skipping...\n",
      "Processing Record 38 of Set 7 | loubomo\n",
      "Processing Record 39 of Set 7 | shubarshi\n",
      "Processing Record 40 of Set 7 | avera\n",
      "Processing Record 41 of Set 7 | cockburn town\n",
      "City not found. Skipping...\n",
      "Processing Record 42 of Set 7 | dali\n",
      "Processing Record 43 of Set 7 | markova\n",
      "Processing Record 44 of Set 7 | armidale\n",
      "Processing Record 45 of Set 7 | noumea\n",
      "Processing Record 46 of Set 7 | trelew\n",
      "Processing Record 47 of Set 7 | ambovombe\n",
      "Processing Record 48 of Set 7 | namatanai\n",
      "Processing Record 49 of Set 7 | limache\n",
      "Processing Record 1 of Set 8 | ngunguru\n",
      "Processing Record 2 of Set 8 | makubetsu\n",
      "Processing Record 3 of Set 8 | san patricio\n",
      "Processing Record 4 of Set 8 | palana\n",
      "Processing Record 5 of Set 8 | vardo\n",
      "Processing Record 6 of Set 8 | sompeta\n",
      "Processing Record 7 of Set 8 | narsaq\n",
      "Processing Record 8 of Set 8 | khvastovichi\n",
      "Processing Record 9 of Set 8 | zheleznodorozhnyy\n",
      "Processing Record 10 of Set 8 | aden\n",
      "Processing Record 11 of Set 8 | monte san giovanni campano\n",
      "Processing Record 12 of Set 8 | thinadhoo\n",
      "Processing Record 13 of Set 8 | whitehorse\n",
      "City not found. Skipping...\n",
      "Processing Record 14 of Set 8 | marolambo\n",
      "Processing Record 15 of Set 8 | zwedru\n",
      "Processing Record 16 of Set 8 | jacksonville\n",
      "Processing Record 17 of Set 8 | mpika\n",
      "Processing Record 18 of Set 8 | toamasina\n",
      "Processing Record 19 of Set 8 | gusau\n"
     ]
    },
    {
     "name": "stdout",
     "output_type": "stream",
     "text": [
      "City not found. Skipping...\n",
      "Processing Record 20 of Set 8 | vanavara\n",
      "Processing Record 21 of Set 8 | camacha\n",
      "City not found. Skipping...\n",
      "Processing Record 22 of Set 8 | natitingou\n",
      "Processing Record 23 of Set 8 | san quintin\n",
      "Processing Record 24 of Set 8 | victoria falls\n",
      "Processing Record 25 of Set 8 | ponta delgada\n",
      "Processing Record 26 of Set 8 | provideniya\n",
      "Processing Record 27 of Set 8 | guerrero negro\n",
      "Processing Record 28 of Set 8 | ostrovnoy\n",
      "Processing Record 29 of Set 8 | asosa\n",
      "Processing Record 30 of Set 8 | san vicente\n",
      "Processing Record 31 of Set 8 | kamenka\n",
      "Processing Record 32 of Set 8 | cochabamba\n",
      "Processing Record 33 of Set 8 | indramayu\n",
      "Processing Record 34 of Set 8 | repalle\n",
      "Processing Record 35 of Set 8 | paramonga\n",
      "Processing Record 36 of Set 8 | morris\n",
      "Processing Record 37 of Set 8 | tromso\n",
      "Processing Record 38 of Set 8 | beloha\n",
      "Processing Record 39 of Set 8 | pontes e lacerda\n",
      "Processing Record 40 of Set 8 | ginda\n",
      "Processing Record 41 of Set 8 | ganzhou\n",
      "Processing Record 42 of Set 8 | kayerkan\n",
      "Processing Record 43 of Set 8 | nizhniy kuranakh\n",
      "Processing Record 44 of Set 8 | alofi\n",
      "Processing Record 45 of Set 8 | kamakhyanagar\n",
      "Processing Record 46 of Set 8 | san ignacio\n",
      "Processing Record 47 of Set 8 | marihatag\n",
      "Processing Record 48 of Set 8 | grand gaube\n",
      "Processing Record 49 of Set 8 | mount gambier\n",
      "City not found. Skipping...\n",
      "Processing Record 1 of Set 9 | goderich\n",
      "Processing Record 2 of Set 9 | cabiraoan\n",
      "Processing Record 3 of Set 9 | yabelo\n",
      "Processing Record 4 of Set 9 | richards bay\n",
      "Processing Record 5 of Set 9 | port augusta\n",
      "Processing Record 6 of Set 9 | shanting\n",
      "Processing Record 7 of Set 9 | banyo\n",
      "Processing Record 8 of Set 9 | corpus christi\n",
      "Processing Record 9 of Set 9 | kahramanmaras\n",
      "Processing Record 10 of Set 9 | kontagora\n",
      "Processing Record 11 of Set 9 | haines junction\n",
      "Processing Record 12 of Set 9 | harrisonburg\n",
      "Processing Record 13 of Set 9 | flinders\n",
      "Processing Record 14 of Set 9 | rocha\n",
      "City not found. Skipping...\n",
      "Processing Record 15 of Set 9 | kashi\n",
      "Processing Record 16 of Set 9 | pacific grove\n",
      "Processing Record 17 of Set 9 | tecoanapa\n",
      "Processing Record 18 of Set 9 | palm coast\n",
      "Processing Record 19 of Set 9 | mount isa\n",
      "Processing Record 20 of Set 9 | buloh kasap\n",
      "City not found. Skipping...\n",
      "Processing Record 21 of Set 9 | andenes\n",
      "City not found. Skipping...\n",
      "Processing Record 22 of Set 9 | mgachi\n",
      "Processing Record 23 of Set 9 | atambua\n",
      "Processing Record 24 of Set 9 | nelson bay\n",
      "Processing Record 25 of Set 9 | kahului\n",
      "Processing Record 26 of Set 9 | loralai\n",
      "Processing Record 27 of Set 9 | tulun\n",
      "Processing Record 28 of Set 9 | warrnambool\n",
      "Processing Record 29 of Set 9 | sukhumi\n",
      "Processing Record 30 of Set 9 | baneh\n",
      "Processing Record 31 of Set 9 | saint-augustin\n",
      "Processing Record 32 of Set 9 | mikepercs\n",
      "Processing Record 33 of Set 9 | lamar\n",
      "Processing Record 34 of Set 9 | mangrol\n",
      "Processing Record 35 of Set 9 | ustka\n",
      "Processing Record 36 of Set 9 | codrington\n",
      "Processing Record 37 of Set 9 | khani\n",
      "Processing Record 38 of Set 9 | tuensang\n",
      "Processing Record 39 of Set 9 | isangel\n",
      "Processing Record 40 of Set 9 | zhigansk\n",
      "City not found. Skipping...\n",
      "Processing Record 41 of Set 9 | tubalan\n",
      "Processing Record 42 of Set 9 | lashio\n",
      "Processing Record 43 of Set 9 | anori\n",
      "Processing Record 44 of Set 9 | karakol\n",
      "Processing Record 45 of Set 9 | pizarro\n",
      "Processing Record 46 of Set 9 | bahia blanca\n",
      "Processing Record 47 of Set 9 | karratha\n",
      "Processing Record 48 of Set 9 | san cristobal\n",
      "Processing Record 49 of Set 9 | warri\n",
      "Processing Record 1 of Set 10 | crotone\n",
      "Processing Record 2 of Set 10 | angoche\n",
      "Processing Record 3 of Set 10 | pindwara\n",
      "Processing Record 4 of Set 10 | porto walter\n",
      "Processing Record 5 of Set 10 | kudahuvadhoo\n",
      "Processing Record 6 of Set 10 | lagoa\n",
      "Processing Record 7 of Set 10 | ucluelet\n",
      "City not found. Skipping...\n",
      "Processing Record 8 of Set 10 | banjarmasin\n",
      "Processing Record 9 of Set 10 | caridad\n",
      "Processing Record 10 of Set 10 | lima\n",
      "City not found. Skipping...\n",
      "Processing Record 11 of Set 10 | newport\n",
      "Processing Record 12 of Set 10 | moyale\n",
      "Processing Record 13 of Set 10 | san ramon\n",
      "Processing Record 14 of Set 10 | coihaique\n",
      "Processing Record 15 of Set 10 | sanjwal\n",
      "Processing Record 16 of Set 10 | borogontsy\n",
      "City not found. Skipping...\n",
      "Processing Record 17 of Set 10 | port hardy\n",
      "Processing Record 18 of Set 10 | aklavik\n",
      "Processing Record 19 of Set 10 | huanren\n",
      "Processing Record 20 of Set 10 | kloulklubed\n",
      "Processing Record 21 of Set 10 | northam\n",
      "City not found. Skipping...\n",
      "Processing Record 22 of Set 10 | mahibadhoo\n",
      "Processing Record 23 of Set 10 | chumikan\n",
      "Processing Record 24 of Set 10 | vrangel\n",
      "Processing Record 25 of Set 10 | nyurba\n",
      "Processing Record 26 of Set 10 | arman\n",
      "City not found. Skipping...\n",
      "Processing Record 27 of Set 10 | manavalakurichi\n",
      "Processing Record 28 of Set 10 | pavilosta\n",
      "Processing Record 29 of Set 10 | tual\n",
      "Processing Record 30 of Set 10 | caravelas\n",
      "City not found. Skipping...\n",
      "City not found. Skipping...\n",
      "Processing Record 31 of Set 10 | chapleau\n",
      "Processing Record 32 of Set 10 | maningrida\n",
      "Processing Record 33 of Set 10 | berlevag\n",
      "Processing Record 34 of Set 10 | arlit\n",
      "Processing Record 35 of Set 10 | naze\n",
      "Processing Record 36 of Set 10 | hovd\n",
      "Processing Record 37 of Set 10 | college\n",
      "Processing Record 38 of Set 10 | seoul\n",
      "Processing Record 39 of Set 10 | paro\n",
      "Processing Record 40 of Set 10 | upington\n",
      "Processing Record 41 of Set 10 | muhos\n",
      "Processing Record 42 of Set 10 | uruburetama\n",
      "Processing Record 43 of Set 10 | dhidhdhoo\n",
      "Processing Record 44 of Set 10 | kulu\n",
      "Processing Record 45 of Set 10 | son la\n",
      "Processing Record 46 of Set 10 | portmarnock\n",
      "Processing Record 47 of Set 10 | nhulunbuy\n",
      "Processing Record 48 of Set 10 | cangzhou\n",
      "Processing Record 49 of Set 10 | penzance\n",
      "Processing Record 1 of Set 11 | portland\n",
      "Processing Record 2 of Set 11 | chilca\n",
      "Processing Record 3 of Set 11 | tazovskiy\n",
      "Processing Record 4 of Set 11 | hue\n",
      "Processing Record 5 of Set 11 | husavik\n",
      "Processing Record 6 of Set 11 | iquique\n",
      "Processing Record 7 of Set 11 | ormstown\n",
      "City not found. Skipping...\n",
      "Processing Record 8 of Set 11 | manta\n",
      "Processing Record 9 of Set 11 | odienne\n",
      "Processing Record 10 of Set 11 | malakal\n",
      "Processing Record 11 of Set 11 | kiyasovo\n",
      "Processing Record 12 of Set 11 | dicabisagan\n",
      "Processing Record 13 of Set 11 | nanchong\n",
      "Processing Record 14 of Set 11 | maneadero\n",
      "Processing Record 15 of Set 11 | campos gerais\n",
      "Processing Record 16 of Set 11 | nagato\n",
      "Processing Record 17 of Set 11 | bucarasica\n",
      "City not found. Skipping...\n",
      "Processing Record 18 of Set 11 | kostomuksha\n",
      "Processing Record 19 of Set 11 | cartagena\n",
      "Processing Record 20 of Set 11 | tamana\n",
      "Processing Record 21 of Set 11 | znamenskoye\n",
      "City not found. Skipping...\n",
      "Processing Record 22 of Set 11 | xiongzhou\n",
      "Processing Record 23 of Set 11 | marshall\n",
      "Processing Record 24 of Set 11 | las palmas\n",
      "Processing Record 25 of Set 11 | wajir\n",
      "Processing Record 26 of Set 11 | erdenet\n",
      "Processing Record 27 of Set 11 | surt\n",
      "Processing Record 28 of Set 11 | sao jose da coroa grande\n",
      "Processing Record 29 of Set 11 | macomb\n",
      "Processing Record 30 of Set 11 | behat\n",
      "Processing Record 31 of Set 11 | honiara\n",
      "Processing Record 32 of Set 11 | hobyo\n",
      "Processing Record 33 of Set 11 | isla mujeres\n",
      "Processing Record 34 of Set 11 | tyup\n",
      "Processing Record 35 of Set 11 | zhoucun\n",
      "Processing Record 36 of Set 11 | vinh\n",
      "Processing Record 37 of Set 11 | norrtalje\n",
      "Processing Record 38 of Set 11 | skibotn\n",
      "Processing Record 39 of Set 11 | varhaug\n",
      "Processing Record 40 of Set 11 | masumbwe\n",
      "Processing Record 41 of Set 11 | lake saint louis\n",
      "Processing Record 42 of Set 11 | gamba\n",
      "Processing Record 43 of Set 11 | waupun\n",
      "Processing Record 44 of Set 11 | mokhsogollokh\n",
      "------------------------------\n",
      "Data Retrieval Complete\n",
      "------------------------------\n"
     ]
    }
   ],
   "source": [
    "# set lists for the dataframe\n",
    "city_two = []\n",
    "humidity = []\n",
    "lat = []\n",
    "long = []\n",
    "max_temp = []\n",
    "wind_speed = []\n",
    "cloudiness = []\n",
    "country = []\n",
    "date = []\n",
    "\n",
    "# set initial count quantities for organization\n",
    "count_one = 0\n",
    "set_one = 1\n",
    "\n",
    "# loops for creating dataframe columns\n",
    "print(\"Beginning Data Retrieval\\n------------------------------\")\n",
    "for city in cities:\n",
    "    try:\n",
    "        response = requests.get(query_url + city.replace(\" \",\"&\")).json()\n",
    "        cloudiness.append(response['clouds']['all'])\n",
    "        country.append(response['sys']['country'])\n",
    "        date.append(response['dt'])\n",
    "        humidity.append(response['main']['humidity'])\n",
    "        lat.append(response['coord']['lat'])\n",
    "        long.append(response['coord']['lon'])\n",
    "        max_temp.append(response['main']['temp_max'])\n",
    "        wind_speed.append(response['wind']['speed'])\n",
    "        if count_one > 48:\n",
    "            count_one = 1\n",
    "            set_one += 1\n",
    "            city_two.append(city)\n",
    "        else:\n",
    "            count_one += 1\n",
    "            city_two.append(city)\n",
    "        print(f\"Processing Record {count_one} of Set {set_one} | {city}\")\n",
    "    except Exception:\n",
    "        print(\"City not found. Skipping...\")\n",
    "print(\"------------------------------\\nData Retrieval Complete\\n------------------------------\")"
   ]
  },
  {
   "cell_type": "markdown",
   "metadata": {},
   "source": [
    "### Convert Raw Data to DataFrame\n",
    "* Export the city data into a .csv.\n",
    "* Display the DataFrame"
   ]
  },
  {
   "cell_type": "code",
   "execution_count": 5,
   "metadata": {},
   "outputs": [
    {
     "data": {
      "text/html": [
       "<div>\n",
       "<style scoped>\n",
       "    .dataframe tbody tr th:only-of-type {\n",
       "        vertical-align: middle;\n",
       "    }\n",
       "\n",
       "    .dataframe tbody tr th {\n",
       "        vertical-align: top;\n",
       "    }\n",
       "\n",
       "    .dataframe thead th {\n",
       "        text-align: right;\n",
       "    }\n",
       "</style>\n",
       "<table border=\"1\" class=\"dataframe\">\n",
       "  <thead>\n",
       "    <tr style=\"text-align: right;\">\n",
       "      <th></th>\n",
       "      <th>City</th>\n",
       "      <th>Cloudiness</th>\n",
       "      <th>Country</th>\n",
       "      <th>Date</th>\n",
       "      <th>Humidity</th>\n",
       "      <th>Lat</th>\n",
       "      <th>Lng</th>\n",
       "      <th>Max Temp</th>\n",
       "      <th>Wind Speed</th>\n",
       "    </tr>\n",
       "  </thead>\n",
       "  <tbody>\n",
       "    <tr>\n",
       "      <th>0</th>\n",
       "      <td>rikitea</td>\n",
       "      <td>16</td>\n",
       "      <td>PF</td>\n",
       "      <td>1608069807</td>\n",
       "      <td>67</td>\n",
       "      <td>-23.12</td>\n",
       "      <td>-134.97</td>\n",
       "      <td>77.52</td>\n",
       "      <td>3.42</td>\n",
       "    </tr>\n",
       "    <tr>\n",
       "      <th>1</th>\n",
       "      <td>jamestown</td>\n",
       "      <td>75</td>\n",
       "      <td>US</td>\n",
       "      <td>1608069807</td>\n",
       "      <td>62</td>\n",
       "      <td>42.10</td>\n",
       "      <td>-79.24</td>\n",
       "      <td>27.00</td>\n",
       "      <td>4.70</td>\n",
       "    </tr>\n",
       "    <tr>\n",
       "      <th>2</th>\n",
       "      <td>geraldton</td>\n",
       "      <td>0</td>\n",
       "      <td>AU</td>\n",
       "      <td>1608069791</td>\n",
       "      <td>87</td>\n",
       "      <td>-28.77</td>\n",
       "      <td>114.60</td>\n",
       "      <td>60.80</td>\n",
       "      <td>5.82</td>\n",
       "    </tr>\n",
       "    <tr>\n",
       "      <th>3</th>\n",
       "      <td>busselton</td>\n",
       "      <td>0</td>\n",
       "      <td>AU</td>\n",
       "      <td>1608069718</td>\n",
       "      <td>82</td>\n",
       "      <td>-33.65</td>\n",
       "      <td>115.33</td>\n",
       "      <td>53.01</td>\n",
       "      <td>1.99</td>\n",
       "    </tr>\n",
       "    <tr>\n",
       "      <th>4</th>\n",
       "      <td>puerto ayora</td>\n",
       "      <td>40</td>\n",
       "      <td>ES</td>\n",
       "      <td>1608069808</td>\n",
       "      <td>87</td>\n",
       "      <td>36.59</td>\n",
       "      <td>-6.23</td>\n",
       "      <td>55.00</td>\n",
       "      <td>4.70</td>\n",
       "    </tr>\n",
       "  </tbody>\n",
       "</table>\n",
       "</div>"
      ],
      "text/plain": [
       "           City  Cloudiness Country        Date  Humidity    Lat     Lng  \\\n",
       "0       rikitea          16      PF  1608069807        67 -23.12 -134.97   \n",
       "1     jamestown          75      US  1608069807        62  42.10  -79.24   \n",
       "2     geraldton           0      AU  1608069791        87 -28.77  114.60   \n",
       "3     busselton           0      AU  1608069718        82 -33.65  115.33   \n",
       "4  puerto ayora          40      ES  1608069808        87  36.59   -6.23   \n",
       "\n",
       "   Max Temp  Wind Speed  \n",
       "0     77.52        3.42  \n",
       "1     27.00        4.70  \n",
       "2     60.80        5.82  \n",
       "3     53.01        1.99  \n",
       "4     55.00        4.70  "
      ]
     },
     "execution_count": 5,
     "metadata": {},
     "output_type": "execute_result"
    }
   ],
   "source": [
    "city_data = pd.DataFrame({\"City\":city_two,\n",
    "                          \"Cloudiness\":cloudiness,\n",
    "                          \"Country\":country,\n",
    "                          \"Date\":date,\n",
    "                          \"Humidity\":humidity,\n",
    "                          \"Lat\":lat,\n",
    "                          \"Lng\":long,\n",
    "                          \"Max Temp\":max_temp,\n",
    "                          \"Wind Speed\":wind_speed})\n",
    "city_data.head()"
   ]
  },
  {
   "cell_type": "code",
   "execution_count": 26,
   "metadata": {},
   "outputs": [],
   "source": [
    "#Export pandas dataframe to csv\n",
    "city_data.to_csv(\"city_data.csv\", index=False)"
   ]
  },
  {
   "cell_type": "markdown",
   "metadata": {},
   "source": [
    "## Inspect the data and remove the cities where the humidity > 100%.\n",
    "----\n",
    "Skip this step if there are no cities that have humidity > 100%. "
   ]
  },
  {
   "cell_type": "code",
   "execution_count": 7,
   "metadata": {},
   "outputs": [
    {
     "data": {
      "text/html": [
       "<div>\n",
       "<style scoped>\n",
       "    .dataframe tbody tr th:only-of-type {\n",
       "        vertical-align: middle;\n",
       "    }\n",
       "\n",
       "    .dataframe tbody tr th {\n",
       "        vertical-align: top;\n",
       "    }\n",
       "\n",
       "    .dataframe thead th {\n",
       "        text-align: right;\n",
       "    }\n",
       "</style>\n",
       "<table border=\"1\" class=\"dataframe\">\n",
       "  <thead>\n",
       "    <tr style=\"text-align: right;\">\n",
       "      <th></th>\n",
       "      <th>Cloudiness</th>\n",
       "      <th>Date</th>\n",
       "      <th>Humidity</th>\n",
       "      <th>Lat</th>\n",
       "      <th>Lng</th>\n",
       "      <th>Max Temp</th>\n",
       "      <th>Wind Speed</th>\n",
       "    </tr>\n",
       "  </thead>\n",
       "  <tbody>\n",
       "    <tr>\n",
       "      <th>count</th>\n",
       "      <td>534.000000</td>\n",
       "      <td>5.340000e+02</td>\n",
       "      <td>534.000000</td>\n",
       "      <td>534.000000</td>\n",
       "      <td>534.000000</td>\n",
       "      <td>534.000000</td>\n",
       "      <td>534.000000</td>\n",
       "    </tr>\n",
       "    <tr>\n",
       "      <th>mean</th>\n",
       "      <td>54.565543</td>\n",
       "      <td>1.608070e+09</td>\n",
       "      <td>73.998127</td>\n",
       "      <td>22.732491</td>\n",
       "      <td>23.360318</td>\n",
       "      <td>49.885112</td>\n",
       "      <td>8.131798</td>\n",
       "    </tr>\n",
       "    <tr>\n",
       "      <th>std</th>\n",
       "      <td>39.064943</td>\n",
       "      <td>1.620314e+02</td>\n",
       "      <td>19.249570</td>\n",
       "      <td>30.903044</td>\n",
       "      <td>87.422767</td>\n",
       "      <td>29.257013</td>\n",
       "      <td>5.994761</td>\n",
       "    </tr>\n",
       "    <tr>\n",
       "      <th>min</th>\n",
       "      <td>0.000000</td>\n",
       "      <td>1.608069e+09</td>\n",
       "      <td>14.000000</td>\n",
       "      <td>-54.800000</td>\n",
       "      <td>-179.170000</td>\n",
       "      <td>-49.950000</td>\n",
       "      <td>0.340000</td>\n",
       "    </tr>\n",
       "    <tr>\n",
       "      <th>25%</th>\n",
       "      <td>7.250000</td>\n",
       "      <td>1.608070e+09</td>\n",
       "      <td>66.000000</td>\n",
       "      <td>-2.402500</td>\n",
       "      <td>-49.420000</td>\n",
       "      <td>33.010000</td>\n",
       "      <td>3.760000</td>\n",
       "    </tr>\n",
       "    <tr>\n",
       "      <th>50%</th>\n",
       "      <td>75.000000</td>\n",
       "      <td>1.608070e+09</td>\n",
       "      <td>78.000000</td>\n",
       "      <td>27.825000</td>\n",
       "      <td>29.760000</td>\n",
       "      <td>56.920000</td>\n",
       "      <td>6.850000</td>\n",
       "    </tr>\n",
       "    <tr>\n",
       "      <th>75%</th>\n",
       "      <td>90.000000</td>\n",
       "      <td>1.608070e+09</td>\n",
       "      <td>88.000000</td>\n",
       "      <td>46.752500</td>\n",
       "      <td>97.692500</td>\n",
       "      <td>75.200000</td>\n",
       "      <td>11.085000</td>\n",
       "    </tr>\n",
       "    <tr>\n",
       "      <th>max</th>\n",
       "      <td>100.000000</td>\n",
       "      <td>1.608070e+09</td>\n",
       "      <td>100.000000</td>\n",
       "      <td>77.480000</td>\n",
       "      <td>179.320000</td>\n",
       "      <td>95.000000</td>\n",
       "      <td>33.350000</td>\n",
       "    </tr>\n",
       "  </tbody>\n",
       "</table>\n",
       "</div>"
      ],
      "text/plain": [
       "       Cloudiness          Date    Humidity         Lat         Lng  \\\n",
       "count  534.000000  5.340000e+02  534.000000  534.000000  534.000000   \n",
       "mean    54.565543  1.608070e+09   73.998127   22.732491   23.360318   \n",
       "std     39.064943  1.620314e+02   19.249570   30.903044   87.422767   \n",
       "min      0.000000  1.608069e+09   14.000000  -54.800000 -179.170000   \n",
       "25%      7.250000  1.608070e+09   66.000000   -2.402500  -49.420000   \n",
       "50%     75.000000  1.608070e+09   78.000000   27.825000   29.760000   \n",
       "75%     90.000000  1.608070e+09   88.000000   46.752500   97.692500   \n",
       "max    100.000000  1.608070e+09  100.000000   77.480000  179.320000   \n",
       "\n",
       "         Max Temp  Wind Speed  \n",
       "count  534.000000  534.000000  \n",
       "mean    49.885112    8.131798  \n",
       "std     29.257013    5.994761  \n",
       "min    -49.950000    0.340000  \n",
       "25%     33.010000    3.760000  \n",
       "50%     56.920000    6.850000  \n",
       "75%     75.200000   11.085000  \n",
       "max     95.000000   33.350000  "
      ]
     },
     "execution_count": 7,
     "metadata": {},
     "output_type": "execute_result"
    }
   ],
   "source": [
    "#Checking for cities that have >100% humidity\n",
    "city_data.describe()"
   ]
  },
  {
   "cell_type": "markdown",
   "metadata": {},
   "source": [
    "The chart above shows that there are no cities that exceed the humidity level above 100%\n"
   ]
  },
  {
   "cell_type": "markdown",
   "metadata": {},
   "source": [
    "## Plotting the Data\n",
    "* Use proper labeling of the plots using plot titles (including date of analysis) and axes labels.\n",
    "* Save the plotted figures as .pngs."
   ]
  },
  {
   "cell_type": "markdown",
   "metadata": {},
   "source": [
    "## Latitude vs. Temperature Plot"
   ]
  },
  {
   "cell_type": "code",
   "execution_count": 8,
   "metadata": {
    "scrolled": true
   },
   "outputs": [
    {
     "data": {
      "image/png": "[encoded data removed]",
      "text/plain": [
       "<Figure size 432x288 with 1 Axes>"
      ]
     },
     "metadata": {
      "needs_background": "light"
     },
     "output_type": "display_data"
    }
   ],
   "source": [
    "#Create scatter plot\n",
    "plt.scatter(city_data[\"Lat\"],city_data[\"Max Temp\"],edgecolors=\"black\",facecolors=\"yellow\")\n",
    "\n",
    "#Set title and axis for plot\n",
    "plt.title(\"City Latitude vs. Max Temperature (12/12/20)\")\n",
    "plt.xlabel(\"Latitude\")\n",
    "plt.ylabel(\"Max Temperature\")\n",
    "\n",
    "#Set grid\n",
    "plt.grid(b=True, which=\"major\", axis=\"both\", linestyle=\"-\", color=\"lightgrey\")\n",
    "\n",
    "#Save graph as png\n",
    "plt.savefig(\"Latitude vs. Temperature Plot.png\")\n",
    "\n",
    "plt.show()"
   ]
  },
  {
   "cell_type": "markdown",
   "metadata": {},
   "source": [
    "# Observation of Latitude vs. Temperature Plot\n",
    "\n",
    "This plot demonstrates the relationship between latitude and temperature.  It shows that as you approach the equator, the weather becomes hotter.\n"
   ]
  },
  {
   "cell_type": "markdown",
   "metadata": {},
   "source": [
    "## Latitude vs. Humidity Plot"
   ]
  },
  {
   "cell_type": "code",
   "execution_count": 9,
   "metadata": {},
   "outputs": [
    {
     "data": {
      "image/png": "[encoded data removed]",
      "text/plain": [
       "<Figure size 432x288 with 1 Axes>"
      ]
     },
     "metadata": {
      "needs_background": "light"
     },
     "output_type": "display_data"
    }
   ],
   "source": [
    "#Create scatter plot\n",
    "plt.scatter(city_data[\"Lat\"],city_data[\"Humidity\"],edgecolors=\"black\",facecolors=\"yellow\")\n",
    "\n",
    "#Set title and axis for plot\n",
    "plt.title(\"City Latitude vs. Humidity (12/12/20)\")\n",
    "plt.xlabel(\"Latitude\")\n",
    "plt.ylabel(\"Humidity\")\n",
    "\n",
    "#Set grid\n",
    "plt.grid(b=True, which=\"major\", axis=\"both\", linestyle=\"-\", color=\"lightgrey\")\n",
    "\n",
    "#Save graph as png\n",
    "plt.savefig(\"Latitude vs. Humidity Plot.png\")\n",
    "\n",
    "plt.show()"
   ]
  },
  {
   "cell_type": "markdown",
   "metadata": {},
   "source": [
    "# Observation of Latitude vs. Humidity\n",
    "\n",
    "This plot demonstrates the relationship between latitude and humidity.  It shows that there isn't much of a correlation between the humidity."
   ]
  },
  {
   "cell_type": "markdown",
   "metadata": {},
   "source": [
    "## Latitude vs. Cloudiness Plot"
   ]
  },
  {
   "cell_type": "code",
   "execution_count": 10,
   "metadata": {},
   "outputs": [
    {
     "data": {
      "image/png": "[encoded data removed]",
      "text/plain": [
       "<Figure size 432x288 with 1 Axes>"
      ]
     },
     "metadata": {
      "needs_background": "light"
     },
     "output_type": "display_data"
    }
   ],
   "source": [
    "#Create scatter plot\n",
    "plt.scatter(city_data[\"Lat\"],city_data[\"Cloudiness\"],edgecolors=\"black\",facecolors=\"yellow\")\n",
    "\n",
    "#Set title and axis for plot\n",
    "plt.title(\"City Latitude vs. Cloudiness (12/12/20)\")\n",
    "plt.xlabel(\"Latitude\")\n",
    "plt.ylabel(\"Cloudiness\")\n",
    "#Set grid\n",
    "plt.grid(b=True, which=\"major\", axis=\"both\", linestyle=\"-\", color=\"lightgrey\")\n",
    "\n",
    "#Save graph as png\n",
    "plt.savefig(\"Latitude vs. Cloudiness Plot.png\")\n",
    "\n",
    "plt.show()"
   ]
  },
  {
   "cell_type": "markdown",
   "metadata": {},
   "source": [
    "# Observation of Latitude vs. Cloudiness\n",
    "\n",
    "This plot demonstrates the relationship between latitude and cloudiness.  It shows that there is no strong correlation between the two.  We also observe the widespread cloudiness across the range of latitudes."
   ]
  },
  {
   "cell_type": "markdown",
   "metadata": {},
   "source": [
    "## Latitude vs. Wind Speed Plot"
   ]
  },
  {
   "cell_type": "code",
   "execution_count": 11,
   "metadata": {},
   "outputs": [
    {
     "data": {
      "image/png": "[encoded data removed]",
      "text/plain": [
       "<Figure size 432x288 with 1 Axes>"
      ]
     },
     "metadata": {
      "needs_background": "light"
     },
     "output_type": "display_data"
    }
   ],
   "source": [
    "#Create scatter plot\n",
    "plt.scatter(city_data[\"Lat\"],city_data[\"Wind Speed\"],edgecolors=\"black\",facecolors=\"yellow\")\n",
    "\n",
    "#Set title and axis for plot\n",
    "plt.title(\"City Latitude vs. Wind Speed (12/12/20) \")\n",
    "plt.xlabel(\"Latitude\")\n",
    "plt.ylabel(\"Wind Speed\")\n",
    "\n",
    "#Set grid\n",
    "plt.grid(b=True, which=\"major\", axis=\"both\", linestyle=\"-\", color=\"lightgrey\")\n",
    "\n",
    "#Save graph as png\n",
    "plt.savefig(\"Latitude vs. Wind Speed Plot.png\")\n",
    "\n",
    "plt.show()"
   ]
  },
  {
   "cell_type": "markdown",
   "metadata": {},
   "source": [
    "# Observation of Latitude vs. Wind Speed\n",
    "\n",
    "The plot demonstrates that this is no strong correlation between the two."
   ]
  },
  {
   "cell_type": "markdown",
   "metadata": {},
   "source": [
    "## Linear Regression"
   ]
  },
  {
   "cell_type": "code",
   "execution_count": 12,
   "metadata": {},
   "outputs": [],
   "source": [
    "# Function to linear regression plot/ylabel will always be Max Temp\n",
    "def plot_linear_regression(x_values, y_values, title, text_coordinates):\n",
    "    (slope, intercept, rvalue, pvalue, stderr) = linregress(x_values, y_values)\n",
    "    regress_values = x_values * slope + intercept\n",
    "    line_eq = \"y = \" + str(round(slope,2)) + \"x + \" + str(round(intercept,2))\n",
    "    \n",
    "    plt.scatter(x_values,y_values)\n",
    "    plt.xlabel(\"Latitude\")\n",
    "    plt.ylabel(\"Max Temp\")\n",
    "    plt.plot(x_values,regress_values,\"r-\")\n",
    "    plt.annotate(line_eq,text_coordinates,fontsize=14,color=\"red\")\n",
    "    \n",
    "    #State coefficient of determination\n",
    "\n",
    "    return print(f\"The r- value is: {round(rvalue**2,8)}\")"
   ]
  },
  {
   "cell_type": "code",
   "execution_count": 13,
   "metadata": {},
   "outputs": [
    {
     "data": {
      "text/html": [
       "<div>\n",
       "<style scoped>\n",
       "    .dataframe tbody tr th:only-of-type {\n",
       "        vertical-align: middle;\n",
       "    }\n",
       "\n",
       "    .dataframe tbody tr th {\n",
       "        vertical-align: top;\n",
       "    }\n",
       "\n",
       "    .dataframe thead th {\n",
       "        text-align: right;\n",
       "    }\n",
       "</style>\n",
       "<table border=\"1\" class=\"dataframe\">\n",
       "  <thead>\n",
       "    <tr style=\"text-align: right;\">\n",
       "      <th></th>\n",
       "      <th>City</th>\n",
       "      <th>Cloudiness</th>\n",
       "      <th>Country</th>\n",
       "      <th>Date</th>\n",
       "      <th>Humidity</th>\n",
       "      <th>Lat</th>\n",
       "      <th>Lng</th>\n",
       "      <th>Max Temp</th>\n",
       "      <th>Wind Speed</th>\n",
       "    </tr>\n",
       "  </thead>\n",
       "  <tbody>\n",
       "    <tr>\n",
       "      <th>1</th>\n",
       "      <td>jamestown</td>\n",
       "      <td>75</td>\n",
       "      <td>US</td>\n",
       "      <td>1608069807</td>\n",
       "      <td>62</td>\n",
       "      <td>42.10</td>\n",
       "      <td>-79.24</td>\n",
       "      <td>27.0</td>\n",
       "      <td>4.70</td>\n",
       "    </tr>\n",
       "    <tr>\n",
       "      <th>4</th>\n",
       "      <td>puerto ayora</td>\n",
       "      <td>40</td>\n",
       "      <td>ES</td>\n",
       "      <td>1608069808</td>\n",
       "      <td>87</td>\n",
       "      <td>36.59</td>\n",
       "      <td>-6.23</td>\n",
       "      <td>55.0</td>\n",
       "      <td>4.70</td>\n",
       "    </tr>\n",
       "    <tr>\n",
       "      <th>5</th>\n",
       "      <td>thompson</td>\n",
       "      <td>75</td>\n",
       "      <td>CA</td>\n",
       "      <td>1608069216</td>\n",
       "      <td>75</td>\n",
       "      <td>55.74</td>\n",
       "      <td>-97.86</td>\n",
       "      <td>-13.0</td>\n",
       "      <td>2.24</td>\n",
       "    </tr>\n",
       "    <tr>\n",
       "      <th>8</th>\n",
       "      <td>kapaa</td>\n",
       "      <td>40</td>\n",
       "      <td>US</td>\n",
       "      <td>1608069564</td>\n",
       "      <td>74</td>\n",
       "      <td>22.08</td>\n",
       "      <td>-159.32</td>\n",
       "      <td>80.6</td>\n",
       "      <td>14.99</td>\n",
       "    </tr>\n",
       "    <tr>\n",
       "      <th>9</th>\n",
       "      <td>albany</td>\n",
       "      <td>24</td>\n",
       "      <td>US</td>\n",
       "      <td>1608069622</td>\n",
       "      <td>38</td>\n",
       "      <td>42.60</td>\n",
       "      <td>-73.97</td>\n",
       "      <td>28.0</td>\n",
       "      <td>8.86</td>\n",
       "    </tr>\n",
       "  </tbody>\n",
       "</table>\n",
       "</div>"
      ],
      "text/plain": [
       "           City  Cloudiness Country        Date  Humidity    Lat     Lng  \\\n",
       "1     jamestown          75      US  1608069807        62  42.10  -79.24   \n",
       "4  puerto ayora          40      ES  1608069808        87  36.59   -6.23   \n",
       "5      thompson          75      CA  1608069216        75  55.74  -97.86   \n",
       "8         kapaa          40      US  1608069564        74  22.08 -159.32   \n",
       "9        albany          24      US  1608069622        38  42.60  -73.97   \n",
       "\n",
       "   Max Temp  Wind Speed  \n",
       "1      27.0        4.70  \n",
       "4      55.0        4.70  \n",
       "5     -13.0        2.24  \n",
       "8      80.6       14.99  \n",
       "9      28.0        8.86  "
      ]
     },
     "execution_count": 13,
     "metadata": {},
     "output_type": "execute_result"
    }
   ],
   "source": [
    "#Creating dataframe for the northern latitude\n",
    "northern_df = city_data.loc[city_data[\"Lat\"] >=0,:]\n",
    "northern_df.head()"
   ]
  },
  {
   "cell_type": "code",
   "execution_count": 14,
   "metadata": {},
   "outputs": [
    {
     "data": {
      "text/html": [
       "<div>\n",
       "<style scoped>\n",
       "    .dataframe tbody tr th:only-of-type {\n",
       "        vertical-align: middle;\n",
       "    }\n",
       "\n",
       "    .dataframe tbody tr th {\n",
       "        vertical-align: top;\n",
       "    }\n",
       "\n",
       "    .dataframe thead th {\n",
       "        text-align: right;\n",
       "    }\n",
       "</style>\n",
       "<table border=\"1\" class=\"dataframe\">\n",
       "  <thead>\n",
       "    <tr style=\"text-align: right;\">\n",
       "      <th></th>\n",
       "      <th>City</th>\n",
       "      <th>Cloudiness</th>\n",
       "      <th>Country</th>\n",
       "      <th>Date</th>\n",
       "      <th>Humidity</th>\n",
       "      <th>Lat</th>\n",
       "      <th>Lng</th>\n",
       "      <th>Max Temp</th>\n",
       "      <th>Wind Speed</th>\n",
       "    </tr>\n",
       "  </thead>\n",
       "  <tbody>\n",
       "    <tr>\n",
       "      <th>0</th>\n",
       "      <td>rikitea</td>\n",
       "      <td>16</td>\n",
       "      <td>PF</td>\n",
       "      <td>1608069807</td>\n",
       "      <td>67</td>\n",
       "      <td>-23.12</td>\n",
       "      <td>-134.97</td>\n",
       "      <td>77.52</td>\n",
       "      <td>3.42</td>\n",
       "    </tr>\n",
       "    <tr>\n",
       "      <th>2</th>\n",
       "      <td>geraldton</td>\n",
       "      <td>0</td>\n",
       "      <td>AU</td>\n",
       "      <td>1608069791</td>\n",
       "      <td>87</td>\n",
       "      <td>-28.77</td>\n",
       "      <td>114.60</td>\n",
       "      <td>60.80</td>\n",
       "      <td>5.82</td>\n",
       "    </tr>\n",
       "    <tr>\n",
       "      <th>3</th>\n",
       "      <td>busselton</td>\n",
       "      <td>0</td>\n",
       "      <td>AU</td>\n",
       "      <td>1608069718</td>\n",
       "      <td>82</td>\n",
       "      <td>-33.65</td>\n",
       "      <td>115.33</td>\n",
       "      <td>53.01</td>\n",
       "      <td>1.99</td>\n",
       "    </tr>\n",
       "    <tr>\n",
       "      <th>6</th>\n",
       "      <td>port alfred</td>\n",
       "      <td>83</td>\n",
       "      <td>CD</td>\n",
       "      <td>1608069808</td>\n",
       "      <td>70</td>\n",
       "      <td>-7.03</td>\n",
       "      <td>29.76</td>\n",
       "      <td>71.91</td>\n",
       "      <td>5.57</td>\n",
       "    </tr>\n",
       "    <tr>\n",
       "      <th>7</th>\n",
       "      <td>saint-philippe</td>\n",
       "      <td>45</td>\n",
       "      <td>RE</td>\n",
       "      <td>1608069808</td>\n",
       "      <td>94</td>\n",
       "      <td>-21.36</td>\n",
       "      <td>55.77</td>\n",
       "      <td>75.20</td>\n",
       "      <td>12.77</td>\n",
       "    </tr>\n",
       "  </tbody>\n",
       "</table>\n",
       "</div>"
      ],
      "text/plain": [
       "             City  Cloudiness Country        Date  Humidity    Lat     Lng  \\\n",
       "0         rikitea          16      PF  1608069807        67 -23.12 -134.97   \n",
       "2       geraldton           0      AU  1608069791        87 -28.77  114.60   \n",
       "3       busselton           0      AU  1608069718        82 -33.65  115.33   \n",
       "6     port alfred          83      CD  1608069808        70  -7.03   29.76   \n",
       "7  saint-philippe          45      RE  1608069808        94 -21.36   55.77   \n",
       "\n",
       "   Max Temp  Wind Speed  \n",
       "0     77.52        3.42  \n",
       "2     60.80        5.82  \n",
       "3     53.01        1.99  \n",
       "6     71.91        5.57  \n",
       "7     75.20       12.77  "
      ]
     },
     "execution_count": 14,
     "metadata": {},
     "output_type": "execute_result"
    }
   ],
   "source": [
    "#Creating dataframe for the southern latitude\n",
    "southern_df = city_data.loc[city_data[\"Lat\"]<=0,:]\n",
    "southern_df.head()"
   ]
  },
  {
   "cell_type": "markdown",
   "metadata": {},
   "source": [
    "####  Northern Hemisphere - Max Temp vs. Latitude Linear Regression"
   ]
  },
  {
   "cell_type": "code",
   "execution_count": 15,
   "metadata": {},
   "outputs": [
    {
     "name": "stdout",
     "output_type": "stream",
     "text": [
      "The r- value is: 0.65884023\n"
     ]
    },
    {
     "data": {
      "image/png": "[encoded data removed]",
      "text/plain": [
       "<Figure size 432x288 with 1 Axes>"
      ]
     },
     "metadata": {
      "needs_background": "light"
     },
     "output_type": "display_data"
    }
   ],
   "source": [
    "# Creating plot\n",
    "x_values = northern_df[\"Lat\"]\n",
    "y_values = northern_df[\"Max Temp\"]\n",
    "\n",
    "plt.title(\"Northern Hemisphere - Max Temp vs. Latitude Linear Regression\")\n",
    "plot_linear_regression(x_values,y_values,'Max Temp',(6,-20))\n",
    "\n",
    "#Save graph as png\n",
    "plt.savefig(\"Northern Hemisphere - Max Temp vs. Latitude Linear Regression.png\")\n",
    "\n",
    "# plt.show()"
   ]
  },
  {
   "cell_type": "markdown",
   "metadata": {},
   "source": [
    "####  Southern Hemisphere - Max Temp vs. Latitude Linear Regression"
   ]
  },
  {
   "cell_type": "code",
   "execution_count": 16,
   "metadata": {
    "scrolled": true
   },
   "outputs": [
    {
     "name": "stdout",
     "output_type": "stream",
     "text": [
      "The r- value is: 0.28962589\n"
     ]
    },
    {
     "data": {
      "image/png": "[encoded data removed]",
      "text/plain": [
       "<Figure size 432x288 with 1 Axes>"
      ]
     },
     "metadata": {
      "needs_background": "light"
     },
     "output_type": "display_data"
    }
   ],
   "source": [
    "# Creating plot\n",
    "x_values = southern_df[\"Lat\"]\n",
    "y_values = southern_df[\"Max Temp\"]\n",
    "\n",
    "plt.title(\"Southern Hemisphere - Max Temp vs. Latitude Linear Regression\")\n",
    "plot_linear_regression(x_values,y_values,'Max Temp',(-50, 90))\n",
    "\n",
    "#Save graph as png\n",
    "plt.savefig(\"Southern Hemisphere - Max Temp vs. Latitude Linear Regression.png\")\n",
    "\n",
    "# plt.show()"
   ]
  },
  {
   "cell_type": "markdown",
   "metadata": {},
   "source": [
    "# Observation of Temperature for Northern & Southern Hemispheres\n",
    "\n",
    "Both the northern and southern hemispheres show the same inverse relationship between latitude and temperature.  As you get closer to the equator, the higher the weather brings more heat."
   ]
  },
  {
   "cell_type": "markdown",
   "metadata": {},
   "source": [
    "####  Northern Hemisphere - Humidity (%) vs. Latitude Linear Regression"
   ]
  },
  {
   "cell_type": "code",
   "execution_count": 17,
   "metadata": {},
   "outputs": [],
   "source": [
    "# Function to linear regression plot/ylabel will always be Humidity\n",
    "def plot_linear_regression(x_values, y_values, title, text_coordinates):\n",
    "    (slope, intercept, rvalue, pvalue, stderr) = linregress(x_values, y_values)\n",
    "    regress_values = x_values * slope + intercept\n",
    "    line_eq = \"y = \" + str(round(slope,2)) + \"x + \" + str(round(intercept,2))\n",
    "    \n",
    "    plt.scatter(x_values,y_values)\n",
    "    plt.xlabel(\"Latitude\")\n",
    "    plt.ylabel(\"Humidity\")\n",
    "    plt.plot(x_values,regress_values,\"r-\")\n",
    "    plt.annotate(line_eq,text_coordinates,fontsize=14,color=\"red\")\n",
    "    \n",
    "    #State coefficient of determination\n",
    "\n",
    "    return print(f\"The r- value is: {round(rvalue**2,8)}\")"
   ]
  },
  {
   "cell_type": "code",
   "execution_count": 18,
   "metadata": {},
   "outputs": [
    {
     "name": "stdout",
     "output_type": "stream",
     "text": [
      "The r- value is: 0.15365828\n"
     ]
    },
    {
     "data": {
      "image/png": "[encoded data removed]",
      "text/plain": [
       "<Figure size 432x288 with 1 Axes>"
      ]
     },
     "metadata": {
      "needs_background": "light"
     },
     "output_type": "display_data"
    }
   ],
   "source": [
    "# Creating plot\n",
    "x_values = northern_df[\"Lat\"]\n",
    "y_values = northern_df[\"Humidity\"]\n",
    "\n",
    "plt.title(\"Northern Hemisphere - Humidity vs. Latitude Linear Regression\")\n",
    "plot_linear_regression(x_values,y_values,'Humidity',(40,30))\n",
    "\n",
    "#Save graph as png\n",
    "plt.savefig(\"Northern Hemisphere - Humidity vs. Latitude Linear Regression.png\")\n",
    "\n",
    "plt.show()"
   ]
  },
  {
   "cell_type": "markdown",
   "metadata": {},
   "source": [
    "####  Southern Hemisphere - Humidity (%) vs. Latitude Linear Regression"
   ]
  },
  {
   "cell_type": "code",
   "execution_count": 19,
   "metadata": {},
   "outputs": [
    {
     "name": "stdout",
     "output_type": "stream",
     "text": [
      "The r- value is: 0.10164164\n"
     ]
    },
    {
     "data": {
      "image/png": "[encoded data removed]",
      "text/plain": [
       "<Figure size 432x288 with 1 Axes>"
      ]
     },
     "metadata": {
      "needs_background": "light"
     },
     "output_type": "display_data"
    }
   ],
   "source": [
    "# Creating plot\n",
    "x_values = southern_df[\"Lat\"]\n",
    "y_values = southern_df[\"Humidity\"]\n",
    "\n",
    "plt.title(\"Southern Hemisphere - Humidity vs. Latitude Linear Regression\")\n",
    "plot_linear_regression(x_values,y_values,'Humidity',(-40,20))\n",
    "\n",
    "#Save graph as png\n",
    "plt.savefig(\"Southern Hemisphere - Humidity vs. Latitude Linear Regression.png\")\n",
    "\n",
    "plt.show()"
   ]
  },
  {
   "cell_type": "markdown",
   "metadata": {},
   "source": [
    "# Observation of Humidity for Northern & Southern Hemispheres\n",
    "\n",
    "The r-squared values show a low value for the regression line.  This proves that there is no linear relationship between latitude and humidity."
   ]
  },
  {
   "cell_type": "markdown",
   "metadata": {},
   "source": [
    "####  Northern Hemisphere - Cloudiness (%) vs. Latitude Linear Regression"
   ]
  },
  {
   "cell_type": "code",
   "execution_count": 20,
   "metadata": {},
   "outputs": [],
   "source": [
    "# Function to linear regression plot/ylabel will always be Cloudiness\n",
    "def plot_linear_regression(x_values, y_values, title, text_coordinates):\n",
    "    (slope, intercept, rvalue, pvalue, stderr) = linregress(x_values, y_values)\n",
    "    regress_values = x_values * slope + intercept\n",
    "    line_eq = \"y = \" + str(round(slope,2)) + \"x + \" + str(round(intercept,2))\n",
    "    \n",
    "    plt.scatter(x_values,y_values)\n",
    "    plt.xlabel(\"Latitude\")\n",
    "    plt.ylabel(\"Cloudiness\")\n",
    "    plt.plot(x_values,regress_values,\"r-\")\n",
    "    plt.annotate(line_eq,text_coordinates,fontsize=14,color=\"red\")\n",
    "    \n",
    "    #State coefficient of determination\n",
    "\n",
    "    return print(f\"The r- value is: {round(rvalue**2,8)}\")"
   ]
  },
  {
   "cell_type": "code",
   "execution_count": 21,
   "metadata": {},
   "outputs": [
    {
     "name": "stdout",
     "output_type": "stream",
     "text": [
      "The r- value is: 0.07327988\n"
     ]
    },
    {
     "data": {
      "image/png": "[encoded data removed]",
      "text/plain": [
       "<Figure size 432x288 with 1 Axes>"
      ]
     },
     "metadata": {
      "needs_background": "light"
     },
     "output_type": "display_data"
    }
   ],
   "source": [
    "# Creating plot\n",
    "x_values = northern_df[\"Lat\"]\n",
    "y_values = northern_df[\"Cloudiness\"]\n",
    "\n",
    "plt.title(\"Northern Hemisphere - Cloudiness vs. Latitude Linear Regression\")\n",
    "plot_linear_regression(x_values,y_values,'Cloudiness',(9,60))\n",
    "\n",
    "\n",
    "#Save graph as png\n",
    "plt.savefig(\"Northern Hemisphere - Cloudiness vs. Latitude Linear Regression.png\")\n",
    "\n",
    "plt.show()"
   ]
  },
  {
   "cell_type": "markdown",
   "metadata": {},
   "source": [
    "####  Southern Hemisphere - Cloudiness (%) vs. Latitude Linear Regression"
   ]
  },
  {
   "cell_type": "code",
   "execution_count": 22,
   "metadata": {},
   "outputs": [
    {
     "name": "stdout",
     "output_type": "stream",
     "text": [
      "The r- value is: 0.15264044\n"
     ]
    },
    {
     "data": {
      "image/png": "[encoded data removed]",
      "text/plain": [
       "<Figure size 432x288 with 1 Axes>"
      ]
     },
     "metadata": {
      "needs_background": "light"
     },
     "output_type": "display_data"
    }
   ],
   "source": [
    "# Creating plot\n",
    "x_values = southern_df[\"Lat\"]\n",
    "y_values = southern_df[\"Cloudiness\"]\n",
    "\n",
    "plt.title(\"Southern Hemisphere - Cloudiness vs. Latitude Linear Regression\")\n",
    "plot_linear_regression(x_values,y_values,'Cloudiness',(-50,60))\n",
    "\n",
    "#Save graph as png\n",
    "plt.savefig(\"Southern Hemisphere - Cloudiness vs. Latitude Linear Regression.png\")\n",
    "\n",
    "plt.show()"
   ]
  },
  {
   "cell_type": "markdown",
   "metadata": {},
   "source": [
    "# Observation of Cloudiness for Northern & Southern Hemispheres\n",
    "\n",
    "This demonstrates that there isn't any correlation between the cloudiness and latitude.  However, we observe that that northern hemisphere is subjected to more clouds than the southern hemisphere."
   ]
  },
  {
   "cell_type": "markdown",
   "metadata": {},
   "source": [
    "####  Northern Hemisphere - Wind Speed (mph) vs. Latitude Linear Regression"
   ]
  },
  {
   "cell_type": "code",
   "execution_count": 23,
   "metadata": {},
   "outputs": [],
   "source": [
    "# Function to linear regression plot/ylabel will always be Wind Speed\n",
    "def plot_linear_regression(x_values, y_values, title, text_coordinates):\n",
    "    (slope, intercept, rvalue, pvalue, stderr) = linregress(x_values, y_values)\n",
    "    regress_values = x_values * slope + intercept\n",
    "    line_eq = \"y = \" + str(round(slope,2)) + \"x + \" + str(round(intercept,2))\n",
    "    \n",
    "    plt.scatter(x_values,y_values)\n",
    "    plt.xlabel(\"Latitude\")\n",
    "    plt.ylabel(\"Wind Speed\")\n",
    "    plt.plot(x_values,regress_values,\"r-\")\n",
    "    plt.annotate(line_eq,text_coordinates,fontsize=14,color=\"red\")\n",
    "    \n",
    "    #State coefficient of determination\n",
    "\n",
    "    return print(f\"The r- value is: {round(rvalue**2,8)}\")"
   ]
  },
  {
   "cell_type": "code",
   "execution_count": 24,
   "metadata": {},
   "outputs": [
    {
     "name": "stdout",
     "output_type": "stream",
     "text": [
      "The r- value is: 0.02770135\n"
     ]
    },
    {
     "data": {
      "image/png": "[encoded data removed]",
      "text/plain": [
       "<Figure size 432x288 with 1 Axes>"
      ]
     },
     "metadata": {
      "needs_background": "light"
     },
     "output_type": "display_data"
    }
   ],
   "source": [
    "# Creating plot\n",
    "x_values = northern_df[\"Lat\"]\n",
    "y_values = northern_df[\"Wind Speed\"]\n",
    "\n",
    "plt.title(\"Northern Hemisphere - Wind Speed vs. Latitude Linear Regression\")\n",
    "plot_linear_regression(x_values,y_values,'Wind Speed',(6,30))\n",
    "\n",
    "#Save graph as png\n",
    "plt.savefig(\"Northern Hemisphere - Wind Speed vs. Latitude Linear Regression.png\")\n",
    "\n",
    "plt.show()"
   ]
  },
  {
   "cell_type": "markdown",
   "metadata": {},
   "source": [
    "####  Southern Hemisphere - Wind Speed (mph) vs. Latitude Linear Regression"
   ]
  },
  {
   "cell_type": "code",
   "execution_count": 25,
   "metadata": {},
   "outputs": [
    {
     "name": "stdout",
     "output_type": "stream",
     "text": [
      "The r- value is: 0.10871164\n"
     ]
    },
    {
     "data": {
      "image/png": "[encoded data removed]",
      "text/plain": [
       "<Figure size 432x288 with 1 Axes>"
      ]
     },
     "metadata": {
      "needs_background": "light"
     },
     "output_type": "display_data"
    }
   ],
   "source": [
    "# Creating plot\n",
    "x_values = southern_df[\"Lat\"]\n",
    "y_values = southern_df[\"Wind Speed\"]\n",
    "\n",
    "plt.title(\"Southern Hemisphere - Wind Speed vs. Latitude Linear Regression\")\n",
    "plot_linear_regression(x_values,y_values,'Wind Speed',(-50,30))\n",
    "\n",
    "#Save graph as png\n",
    "plt.savefig(\"Southern Hemisphere - Wind Speed vs. Latitude Linear Regression.png\")\n",
    "\n",
    "plt.show()"
   ]
  },
  {
   "cell_type": "markdown",
   "metadata": {},
   "source": [
    "# Observation of Wind Speed for the Northern & Southern Hemispheres\n",
    "\n",
    "This demonstrates that there is a strong correlation between wind speed and latitude in the northern hemisphere.  However, it seems that the correlation declines a bit in the southern hemisphere."
   ]
  }
 ],
 "metadata": {
  "anaconda-cloud": {},
  "kernel_info": {
   "name": "python3"
  },
  "kernelspec": {
   "display_name": "Python 3",
   "language": "python",
   "name": "python3"
  },
  "language_info": {
   "codemirror_mode": {
    "name": "ipython",
    "version": 3
   },
   "file_extension": ".py",
   "mimetype": "text/x-python",
   "name": "python",
   "nbconvert_exporter": "python",
   "pygments_lexer": "ipython3",
   "version": "3.8.3"
  },
  "latex_envs": {
   "LaTeX_envs_menu_present": true,
   "autoclose": false,
   "autocomplete": true,
   "bibliofile": "biblio.bib",
   "cite_by": "apalike",
   "current_citInitial": 1,
   "eqLabelWithNumbers": true,
   "eqNumInitial": 1,
   "hotkeys": {
    "equation": "Ctrl-E",
    "itemize": "Ctrl-I"
   },
   "labels_anchors": false,
   "latex_user_defs": false,
   "report_style_numbering": false,
   "user_envs_cfg": false
  },
  "nteract": {
   "version": "0.12.3"
  }
 },
 "nbformat": 4,
 "nbformat_minor": 2
}
